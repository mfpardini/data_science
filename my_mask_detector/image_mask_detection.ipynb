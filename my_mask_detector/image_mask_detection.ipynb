{
 "cells": [
  {
   "cell_type": "code",
   "execution_count": 3,
   "id": "41de56f9",
   "metadata": {
    "ExecuteTime": {
     "end_time": "2021-10-10T18:52:49.509485Z",
     "start_time": "2021-10-10T18:52:45.172110Z"
    }
   },
   "outputs": [],
   "source": [
    "import os\n",
    "\n",
    "import cv2\n",
    "import numpy as np\n",
    "from tensorflow.keras.applications.mobilenet_v2 import preprocess_input\n",
    "from tensorflow.keras.models import load_model\n",
    "from tensorflow.keras.preprocessing.image import img_to_array"
   ]
  },
  {
   "cell_type": "code",
   "execution_count": 4,
   "id": "f5a71104",
   "metadata": {
    "ExecuteTime": {
     "end_time": "2021-10-10T18:52:49.525191Z",
     "start_time": "2021-10-10T18:52:49.509485Z"
    }
   },
   "outputs": [],
   "source": [
    "# definindo variáveis\n",
    "images_path = os.path.join('test_images', 'test')\n",
    "predictions_path = os.path.join('test_images', 'predicted')\n",
    "acepted_confidence = 0.5"
   ]
  },
  {
   "cell_type": "code",
   "execution_count": 5,
   "id": "d8b2dbdb",
   "metadata": {
    "ExecuteTime": {
     "end_time": "2021-10-10T18:52:49.591296Z",
     "start_time": "2021-10-10T18:52:49.528226Z"
    }
   },
   "outputs": [
    {
     "name": "stdout",
     "output_type": "stream",
     "text": [
      "[INFO] carregando modelo de detecção facial...\n"
     ]
    }
   ],
   "source": [
    "# carregar dnn\n",
    "print(\"[INFO] carregando modelo de detecção facial...\")\n",
    "prototxtPath = os.path.join('face_detector', 'deploy.prototxt')\n",
    "weightsPath = os.path.join('face_detector', \"res10_300x300_ssd_iter_140000.caffemodel\")\n",
    "net = cv2.dnn.readNet(prototxtPath, weightsPath)"
   ]
  },
  {
   "cell_type": "code",
   "execution_count": 6,
   "id": "e0edfb38",
   "metadata": {
    "ExecuteTime": {
     "end_time": "2021-10-10T18:52:57.260644Z",
     "start_time": "2021-10-10T18:52:49.594179Z"
    }
   },
   "outputs": [
    {
     "name": "stdout",
     "output_type": "stream",
     "text": [
      "[INFO] carregando modelo de detecção de máscaras...\n"
     ]
    }
   ],
   "source": [
    "# carregar detector de máscaras\n",
    "print(\"[INFO] carregando modelo de detecção de máscaras...\")\n",
    "model = load_model('my_trained_model.model')"
   ]
  },
  {
   "cell_type": "code",
   "execution_count": 7,
   "id": "d63061e9",
   "metadata": {
    "ExecuteTime": {
     "end_time": "2021-10-10T18:52:57.293280Z",
     "start_time": "2021-10-10T18:52:57.260644Z"
    }
   },
   "outputs": [],
   "source": [
    "def predict_image_without_face_detection(img_path, pred_path = predictions_path, show_pred = False):\n",
    "    '''\n",
    "    Função que faz a predição utilizando sem usar a detecção de faces\n",
    "    '''\n",
    "    # carregar imagem\n",
    "    image = cv2.imread(img_path)\n",
    "    img_orig = image.copy()\n",
    "    (h, w) = image.shape[:2]\n",
    "\n",
    "    face = cv2.resize(image, (224, 224))\n",
    "    face = img_to_array(face)\n",
    "    face = preprocess_input(face)\n",
    "    face = np.expand_dims(face, axis=0)\n",
    "\n",
    "    # faz a predição propriamente dita e salva a probabilidade nas variáveis\n",
    "    (mask, withoutMask) = model.predict(face)[0]\n",
    "\n",
    "    # determina o rótulo e a respectiva cor baseado na predição feita\n",
    "    label = \"Com mascara\" if mask > withoutMask else \"SEM mascara\"\n",
    "    label = \"{}: {:.2f}%\".format(label, max(mask, withoutMask) * 100)\n",
    "    color = (0, 255, 0) if mask > withoutMask else (0, 0, 255)\n",
    "    print(f'imagem {img_path} - {label}')\n",
    "\n",
    "    # adiciona o rótulo e um retângulo com a cor na imagem\n",
    "    cv2.putText(image, label, (40, h - 100), cv2.FONT_HERSHEY_SIMPLEX, 0.85, color, 2)\n",
    "\n",
    "    if show_pred:\n",
    "        # após a iteração e predições, mostra a imagem e salva em disco se apertar 's'\n",
    "        cv2.imshow(\"Output\", image)\n",
    "        k = cv2.waitKey(0)\n",
    "        if k == 27:  # aguarda ESC para sair do programa\n",
    "            cv2.destroyWindow('Output')\n",
    "        elif k == ord('s'):  # aguarda 's' para salvar imagem e sair do programa\n",
    "            filename = os.path.split(img_path)[-1]\n",
    "            cv2.imwrite(os.path.join('test_images', 'predicted', filename), image)\n",
    "            cv2.destroyWindow('Output')\n",
    "\n",
    "    else:\n",
    "        filename = os.path.split(img_path)[-1]\n",
    "        cv2.imwrite(os.path.join('test_images', 'predicted', filename), image)"
   ]
  },
  {
   "cell_type": "code",
   "execution_count": 22,
   "id": "30a89943",
   "metadata": {
    "ExecuteTime": {
     "end_time": "2021-10-10T18:54:20.280535Z",
     "start_time": "2021-10-10T18:54:20.220930Z"
    }
   },
   "outputs": [],
   "source": [
    "def predict_image_with_face_detection(img_path, pred_path = predictions_path, show_pred = False):\n",
    "    '''\n",
    "    Função que faz a predição utilizando a detecção de faces\n",
    "    '''\n",
    "    # carregar imagem\n",
    "    image = cv2.imread(img_path)\n",
    "    img_orig = image.copy()\n",
    "    (h, w) = image.shape[:2]\n",
    "\n",
    "    # passar o blob pela rede e obter detecções\n",
    "    print(\"[INFO] computando detecções de faces...\")\n",
    "    blob = cv2.dnn.blobFromImage(image, 1.0, (300, 300), (104.0, 177.0, 123.0))\n",
    "    net.setInput(blob)\n",
    "    detections = net.forward()\n",
    "    print(detections.shape[2])\n",
    "\n",
    "    # iterar sobre detecções, aceitando acima de determinado nível de confiança\n",
    "    for i in range(0, detections.shape[2]):\n",
    "        \n",
    "        confidence = detections[0, 0, i, 2]\n",
    "        \n",
    "        if confidence > acepted_confidence:\n",
    "            \n",
    "            # pega as coordenadas da imagem\n",
    "            box = detections[0, 0, i, 3:7] * np.array([w, h, w, h])\n",
    "            (startX, startY, endX, endY) = box.astype(\"int\")\n",
    "            # garante que o box esteja dentro das dimensões\n",
    "            (startX, startY) = (max(0, startX), max(0, startY))\n",
    "            (endX, endY) = (min(w - 1, endX), min(h - 1, endY))\n",
    "\n",
    "            # extrai a face da imagem, redimensiona para 224x224\n",
    "            face = image[startY:endY, startX:endX]\n",
    "\n",
    "            #face = cv2.cvtColor(face, cv2.COLOR_BGR2RGB)\n",
    "\n",
    "            # prepara imagem para predição, redimensionando para 224x224 e aumentando uma dimensão no array\n",
    "            face = cv2.resize(face, (224, 224))\n",
    "            face = img_to_array(face)\n",
    "            face = preprocess_input(face)\n",
    "            face = np.expand_dims(face, axis=0)\n",
    "\n",
    "            # faz a predição propriamente dita e salva a probabilidade nas variáveis\n",
    "            (mask, withoutMask) = model.predict(face)[0]\n",
    "\n",
    "            # determina o rótulo e a respectiva cor baseado na predição feita\n",
    "            label = \"Com mascara\" if mask > withoutMask else \"SEM mascara\"\n",
    "            label = \"{}: {:.2f}%\".format(label, max(mask, withoutMask) * 100)\n",
    "            color = (0, 255, 0) if mask > withoutMask else (0, 0, 255)\n",
    "            print(img_path, label)\n",
    "\n",
    "            # adiciona o rótulo e um retângulo com a cor na imagem\n",
    "            cv2.rectangle(img_orig, (0, h - 100), (w, h), (0, 0, 0), -1)\n",
    "            #cv2.putText(img_orig, label, (startX, startY - 30), cv2.FONT_HERSHEY_SIMPLEX, 0.85, color, 2)\n",
    "            cv2.putText(img_orig, label, (250, h - 30), cv2.FONT_HERSHEY_SIMPLEX, 2, color, 3)\n",
    "            cv2.rectangle(img_orig, (startX, startY), (endX, endY), color, 2)\n",
    "\n",
    "            if show_pred:\n",
    "                # após a iteração e predições, mostra a imagem e salva em disco se apertar 's'\n",
    "                cv2.imshow(\"Output\", img_orig)\n",
    "                k = cv2.waitKey(0)\n",
    "                if k == 27:  # aguarda ESC para sair do programa\n",
    "                    cv2.destroyWindow('Output')\n",
    "                    continue\n",
    "                elif k == ord('s'):  # aguarda 's' para salvar imagem e sair do programa\n",
    "                    filename = os.path.split(img_path)[-1]\n",
    "                    cv2.imwrite(os.path.join('test_images', 'predicted', filename), img_orig)\n",
    "                    cv2.destroyWindow('Output')\n",
    "                    continue\n",
    "            else:\n",
    "                filename = os.path.split(img_path)[-1]\n",
    "                cv2.imwrite(os.path.join('test_images', 'predicted', filename), img_orig)"
   ]
  },
  {
   "cell_type": "code",
   "execution_count": 23,
   "id": "1f5b130c",
   "metadata": {
    "ExecuteTime": {
     "end_time": "2021-10-10T18:54:28.274431Z",
     "start_time": "2021-10-10T18:54:21.044044Z"
    }
   },
   "outputs": [
    {
     "name": "stdout",
     "output_type": "stream",
     "text": [
      "test_images\\test\\imagem (2).jpg\n",
      "[INFO] computando detecções de faces...\n",
      "200\n",
      "pega as coordenadas da imagem\n",
      "prepara imagem para predição\n",
      "faz a predição propriamente dita\n",
      "test_images\\test\\imagem (2).jpg SEM mascara: 99.99%\n",
      "adiciona o rótulo e um retângulo com a cor na imagem\n"
     ]
    }
   ],
   "source": [
    "predict_image_with_face_detection(os.path.join('test_images', 'test', 'imagem (2).jpg'), show_pred=True)"
   ]
  },
  {
   "cell_type": "code",
   "execution_count": null,
   "id": "6ad80e4c",
   "metadata": {},
   "outputs": [],
   "source": []
  },
  {
   "cell_type": "code",
   "execution_count": 24,
   "id": "ac91decd",
   "metadata": {
    "ExecuteTime": {
     "end_time": "2021-10-10T18:54:46.151966Z",
     "start_time": "2021-10-10T18:54:34.284796Z"
    }
   },
   "outputs": [
    {
     "name": "stdout",
     "output_type": "stream",
     "text": [
      "imagem imagem (1).jpg sendo detectada\n",
      "test_images\\test\\imagem (1).jpg\n",
      "[INFO] computando detecções de faces...\n",
      "200\n",
      "imagem imagem (10).jpg sendo detectada\n",
      "test_images\\test\\imagem (10).jpg\n",
      "[INFO] computando detecções de faces...\n",
      "200\n",
      "pega as coordenadas da imagem\n",
      "prepara imagem para predição\n",
      "faz a predição propriamente dita\n",
      "test_images\\test\\imagem (10).jpg SEM mascara: 99.96%\n",
      "adiciona o rótulo e um retângulo com a cor na imagem\n",
      "imagem imagem (11).jpg sendo detectada\n",
      "test_images\\test\\imagem (11).jpg\n",
      "[INFO] computando detecções de faces...\n",
      "200\n",
      "pega as coordenadas da imagem\n",
      "prepara imagem para predição\n",
      "faz a predição propriamente dita\n",
      "test_images\\test\\imagem (11).jpg SEM mascara: 99.89%\n",
      "adiciona o rótulo e um retângulo com a cor na imagem\n",
      "imagem imagem (12).jpg sendo detectada\n",
      "test_images\\test\\imagem (12).jpg\n",
      "[INFO] computando detecções de faces...\n",
      "200\n",
      "imagem imagem (2).jpg sendo detectada\n",
      "test_images\\test\\imagem (2).jpg\n",
      "[INFO] computando detecções de faces...\n",
      "200\n",
      "pega as coordenadas da imagem\n",
      "prepara imagem para predição\n",
      "faz a predição propriamente dita\n",
      "test_images\\test\\imagem (2).jpg SEM mascara: 99.99%\n",
      "adiciona o rótulo e um retângulo com a cor na imagem\n",
      "imagem imagem (3).jpg sendo detectada\n",
      "test_images\\test\\imagem (3).jpg\n",
      "[INFO] computando detecções de faces...\n",
      "200\n",
      "pega as coordenadas da imagem\n",
      "prepara imagem para predição\n",
      "faz a predição propriamente dita\n",
      "test_images\\test\\imagem (3).jpg SEM mascara: 98.84%\n",
      "adiciona o rótulo e um retângulo com a cor na imagem\n",
      "imagem imagem (4).jpg sendo detectada\n",
      "test_images\\test\\imagem (4).jpg\n",
      "[INFO] computando detecções de faces...\n",
      "200\n",
      "pega as coordenadas da imagem\n",
      "prepara imagem para predição\n",
      "faz a predição propriamente dita\n",
      "test_images\\test\\imagem (4).jpg SEM mascara: 100.00%\n",
      "adiciona o rótulo e um retângulo com a cor na imagem\n",
      "imagem imagem (5).jpg sendo detectada\n",
      "test_images\\test\\imagem (5).jpg\n",
      "[INFO] computando detecções de faces...\n",
      "200\n",
      "pega as coordenadas da imagem\n",
      "prepara imagem para predição\n",
      "faz a predição propriamente dita\n",
      "test_images\\test\\imagem (5).jpg SEM mascara: 100.00%\n",
      "adiciona o rótulo e um retângulo com a cor na imagem\n",
      "imagem imagem (6).jpg sendo detectada\n",
      "test_images\\test\\imagem (6).jpg\n",
      "[INFO] computando detecções de faces...\n",
      "200\n",
      "pega as coordenadas da imagem\n",
      "prepara imagem para predição\n",
      "faz a predição propriamente dita\n",
      "test_images\\test\\imagem (6).jpg Com mascara: 85.51%\n",
      "adiciona o rótulo e um retângulo com a cor na imagem\n",
      "imagem imagem (7).jpg sendo detectada\n",
      "test_images\\test\\imagem (7).jpg\n",
      "[INFO] computando detecções de faces...\n",
      "200\n",
      "pega as coordenadas da imagem\n",
      "prepara imagem para predição\n",
      "faz a predição propriamente dita\n",
      "test_images\\test\\imagem (7).jpg Com mascara: 84.42%\n",
      "adiciona o rótulo e um retângulo com a cor na imagem\n",
      "imagem imagem (8).jpg sendo detectada\n",
      "test_images\\test\\imagem (8).jpg\n",
      "[INFO] computando detecções de faces...\n",
      "200\n",
      "pega as coordenadas da imagem\n",
      "prepara imagem para predição\n",
      "faz a predição propriamente dita\n",
      "test_images\\test\\imagem (8).jpg Com mascara: 97.07%\n",
      "adiciona o rótulo e um retângulo com a cor na imagem\n",
      "imagem imagem (9).jpg sendo detectada\n",
      "test_images\\test\\imagem (9).jpg\n",
      "[INFO] computando detecções de faces...\n",
      "200\n",
      "pega as coordenadas da imagem\n",
      "prepara imagem para predição\n",
      "faz a predição propriamente dita\n",
      "test_images\\test\\imagem (9).jpg Com mascara: 99.36%\n",
      "adiciona o rótulo e um retângulo com a cor na imagem\n"
     ]
    }
   ],
   "source": [
    "for img in os.listdir(images_path):\n",
    "    print(f'imagem {img} sendo detectada')\n",
    "    predict_image_with_face_detection(os.path.join(images_path, img), show_pred=True)"
   ]
  }
 ],
 "metadata": {
  "kernelspec": {
   "display_name": "Python 3",
   "language": "python",
   "name": "python3"
  },
  "language_info": {
   "codemirror_mode": {
    "name": "ipython",
    "version": 3
   },
   "file_extension": ".py",
   "mimetype": "text/x-python",
   "name": "python",
   "nbconvert_exporter": "python",
   "pygments_lexer": "ipython3",
   "version": "3.6.13"
  }
 },
 "nbformat": 4,
 "nbformat_minor": 5
}

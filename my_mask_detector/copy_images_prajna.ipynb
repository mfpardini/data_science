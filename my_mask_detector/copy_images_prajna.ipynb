{
 "cells": [
  {
   "cell_type": "code",
   "execution_count": 1,
   "id": "df419866",
   "metadata": {
    "ExecuteTime": {
     "end_time": "2021-08-22T00:25:46.587120Z",
     "start_time": "2021-08-22T00:25:46.579155Z"
    }
   },
   "outputs": [],
   "source": [
    "import os\n",
    "import random\n",
    "from math import ceil\n",
    "from shutil import copyfile"
   ]
  },
  {
   "cell_type": "code",
   "execution_count": 2,
   "id": "0e64d340",
   "metadata": {
    "ExecuteTime": {
     "end_time": "2021-08-22T00:25:57.103223Z",
     "start_time": "2021-08-22T00:25:54.962963Z"
    }
   },
   "outputs": [],
   "source": [
    "img_dir = 'dataset/prajna-orig/with_mask/'\n",
    "img_list = os.listdir(img_dir)\n",
    "random.seed(42)\n",
    "random.shuffle(img_list)\n",
    "for i, x in enumerate(img_list):\n",
    "    if i < ceil(len(img_list) * 0.7):\n",
    "        copyfile(img_dir + img_list[i], 'dataset/prajna/train/with_mask/' + img_list[i])\n",
    "    elif i >= ceil(len(img_list) * 0.7) and i < ceil(len(img_list) * 0.9):\n",
    "        copyfile(img_dir + img_list[i], 'dataset/prajna/valid/with_mask/' + img_list[i])\n",
    "    else:\n",
    "        copyfile(img_dir + img_list[i], 'dataset/prajna/test/with_mask/' + img_list[i])"
   ]
  },
  {
   "cell_type": "code",
   "execution_count": 3,
   "id": "e5e11185",
   "metadata": {
    "ExecuteTime": {
     "end_time": "2021-08-22T00:26:23.958799Z",
     "start_time": "2021-08-22T00:26:23.619439Z"
    }
   },
   "outputs": [],
   "source": [
    "img_dir = 'dataset/prajna-orig/without_mask/'\n",
    "img_list = os.listdir(img_dir)\n",
    "random.seed(42)\n",
    "random.shuffle(img_list)\n",
    "for i, x in enumerate(img_list):\n",
    "    if i < ceil(len(img_list) * 0.7):\n",
    "        copyfile(img_dir + img_list[i], 'dataset/prajna/train/without_mask/' + img_list[i])\n",
    "    elif i >= ceil(len(img_list) * 0.7) and i < ceil(len(img_list) * 0.9):\n",
    "        copyfile(img_dir + img_list[i], 'dataset/prajna/valid/without_mask/' + img_list[i])\n",
    "    else:\n",
    "        copyfile(img_dir + img_list[i], 'dataset/prajna/test/without_mask/' + img_list[i])"
   ]
  }
 ],
 "metadata": {
  "kernelspec": {
   "display_name": "Python 3",
   "language": "python",
   "name": "python3"
  },
  "language_info": {
   "codemirror_mode": {
    "name": "ipython",
    "version": 3
   },
   "file_extension": ".py",
   "mimetype": "text/x-python",
   "name": "python",
   "nbconvert_exporter": "python",
   "pygments_lexer": "ipython3",
   "version": "3.6.13"
  }
 },
 "nbformat": 4,
 "nbformat_minor": 5
}
